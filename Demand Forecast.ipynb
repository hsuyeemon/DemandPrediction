{
 "cells": [
  {
   "cell_type": "markdown",
   "metadata": {
    "colab_type": "text",
    "id": "0ckQTagirtYY"
   },
   "source": [
    "Demand Predict"
   ]
  },
  {
   "cell_type": "markdown",
   "metadata": {
    "colab_type": "text",
    "id": "NOVyOvjysKBz"
   },
   "source": [
    "Basic Data Preparation"
   ]
  },
  {
   "cell_type": "code",
   "execution_count": 1,
   "metadata": {
    "colab": {},
    "colab_type": "code",
    "id": "As3kivKdpg3V"
   },
   "outputs": [],
   "source": [
    "from pandas import read_csv\n",
    "from datetime import datetime"
   ]
  },
  {
   "cell_type": "code",
   "execution_count": 2,
   "metadata": {
    "colab": {},
    "colab_type": "code",
    "id": "ONRbR5QQrRli"
   },
   "outputs": [],
   "source": [
    "dataset = read_csv('demand.csv')"
   ]
  },
  {
   "cell_type": "code",
   "execution_count": 3,
   "metadata": {
    "colab": {},
    "colab_type": "code",
    "id": "xgmTHATAsa2q"
   },
   "outputs": [
    {
     "data": {
      "text/html": [
       "<div>\n",
       "<style scoped>\n",
       "    .dataframe tbody tr th:only-of-type {\n",
       "        vertical-align: middle;\n",
       "    }\n",
       "\n",
       "    .dataframe tbody tr th {\n",
       "        vertical-align: top;\n",
       "    }\n",
       "\n",
       "    .dataframe thead th {\n",
       "        text-align: right;\n",
       "    }\n",
       "</style>\n",
       "<table border=\"1\" class=\"dataframe\">\n",
       "  <thead>\n",
       "    <tr style=\"text-align: right;\">\n",
       "      <th></th>\n",
       "      <th>date</th>\n",
       "      <th>quantity</th>\n",
       "    </tr>\n",
       "    <tr>\n",
       "      <th>date</th>\n",
       "      <th></th>\n",
       "      <th></th>\n",
       "    </tr>\n",
       "  </thead>\n",
       "  <tbody>\n",
       "    <tr>\n",
       "      <th>0</th>\n",
       "      <td>2016-01-01</td>\n",
       "      <td>1</td>\n",
       "    </tr>\n",
       "    <tr>\n",
       "      <th>1</th>\n",
       "      <td>2016-01-02</td>\n",
       "      <td>2</td>\n",
       "    </tr>\n",
       "    <tr>\n",
       "      <th>2</th>\n",
       "      <td>2016-01-03</td>\n",
       "      <td>6</td>\n",
       "    </tr>\n",
       "    <tr>\n",
       "      <th>3</th>\n",
       "      <td>2016-01-04</td>\n",
       "      <td>0</td>\n",
       "    </tr>\n",
       "    <tr>\n",
       "      <th>4</th>\n",
       "      <td>2016-01-05</td>\n",
       "      <td>0</td>\n",
       "    </tr>\n",
       "  </tbody>\n",
       "</table>\n",
       "</div>"
      ],
      "text/plain": [
       "            date  quantity\n",
       "date                      \n",
       "0     2016-01-01         1\n",
       "1     2016-01-02         2\n",
       "2     2016-01-03         6\n",
       "3     2016-01-04         0\n",
       "4     2016-01-05         0"
      ]
     },
     "execution_count": 3,
     "metadata": {},
     "output_type": "execute_result"
    }
   ],
   "source": [
    "# manually specify column names\n",
    "dataset.columns = ['date', 'quantity']\n",
    "dataset.index.name = 'date'\n",
    "dataset.head(5)"
   ]
  },
  {
   "cell_type": "code",
   "execution_count": 4,
   "metadata": {
    "colab": {},
    "colab_type": "code",
    "id": "LsVBKSNLtvVE"
   },
   "outputs": [],
   "source": [
    "from matplotlib import pyplot\n",
    "# load dataset\n",
    "#dataset = read_csv('pollution.csv', header=0, index_col=0)\n",
    "values = dataset.values"
   ]
  },
  {
   "cell_type": "code",
   "execution_count": 5,
   "metadata": {
    "colab": {
     "base_uri": "https://localhost:8080/",
     "height": 268
    },
    "colab_type": "code",
    "id": "nvNWMCXjt6ME",
    "outputId": "28f35e4c-3527-4b01-f637-c06c92ad9c4d"
   },
   "outputs": [
    {
     "data": {
      "image/png": "[encoded data removed]",
      "text/plain": [
       "<Figure size 432x288 with 1 Axes>"
      ]
     },
     "metadata": {
      "needs_background": "light"
     },
     "output_type": "display_data"
    }
   ],
   "source": [
    "\n",
    "# plot each column\n",
    "pyplot.figure()\n",
    "pyplot.plot(values[:, 1])\n",
    "pyplot.title(dataset.columns[1], y=0.5, loc='right')\n",
    "pyplot.show()"
   ]
  },
  {
   "cell_type": "markdown",
   "metadata": {
    "colab_type": "text",
    "id": "qU8AWyctuNsO"
   },
   "source": [
    "Multivariate LSTM Forecast Model"
   ]
  },
  {
   "cell_type": "markdown",
   "metadata": {
    "colab_type": "text",
    "id": "nbn0oGwx-Q5l"
   },
   "source": [
    "LSTM Data Preparation:<br>\n",
    "***framing the dataset as a supervised learning problem and normalizing the input variables.***"
   ]
  },
  {
   "cell_type": "code",
   "execution_count": 6,
   "metadata": {
    "colab": {},
    "colab_type": "code",
    "id": "ZzDa6PYht9BU"
   },
   "outputs": [],
   "source": [
    "from pandas import DataFrame\n",
    "from pandas import concat\n",
    "from sklearn.preprocessing import LabelEncoder\n",
    "from sklearn.preprocessing import MinMaxScaler"
   ]
  },
  {
   "cell_type": "code",
   "execution_count": 7,
   "metadata": {
    "colab": {},
    "colab_type": "code",
    "id": "_YYeYZoO_1Cu"
   },
   "outputs": [],
   "source": [
    "# convert series to supervised learning\n",
    "def series_to_supervised(data, n_in=1, n_out=1, dropnan=True):\n",
    "\tn_vars = 1 if type(data) is list else data.shape[1]\n",
    "\tdf = DataFrame(data)\n",
    "\tcols, names = list(), list()\n",
    "\t# input sequence (t-n, ... t-1)\n",
    "\tfor i in range(n_in, 0, -1):\n",
    "\t\tcols.append(df.shift(i))\n",
    "\t\tnames += [('var%d(t-%d)' % (j+1, i)) for j in range(n_vars)]\n",
    "\t# forecast sequence (t, t+1, ... t+n)\n",
    "\tfor i in range(0, n_out):\n",
    "\t\tcols.append(df.shift(-i))\n",
    "\t\tif i == 0:\n",
    "\t\t\tnames += [('var%d(t)' % (j+1)) for j in range(n_vars)]\n",
    "\t\telse:\n",
    "\t\t\tnames += [('var%d(t+%d)' % (j+1, i)) for j in range(n_vars)]\n",
    "\t# put it all together\n",
    "\tagg = concat(cols, axis=1)\n",
    "\tagg.columns = names\n",
    "\t# drop rows with NaN values\n",
    "\tif dropnan:\n",
    "\t\tagg.dropna(inplace=True)\n",
    "\treturn agg\n",
    " "
   ]
  },
  {
   "cell_type": "code",
   "execution_count": 8,
   "metadata": {
    "colab": {},
    "colab_type": "code",
    "id": "mMdWKca8LlBE"
   },
   "outputs": [],
   "source": [
    "# integer encode direction\n",
    "encoder = LabelEncoder()\n",
    "values[:,0] = encoder.fit_transform(values[:,0])"
   ]
  },
  {
   "cell_type": "code",
   "execution_count": 9,
   "metadata": {
    "colab": {
     "base_uri": "https://localhost:8080/",
     "height": 140
    },
    "colab_type": "code",
    "id": "aJwr7hKsL0-_",
    "outputId": "6c321a13-f00d-4231-fb93-1b99eff6987d"
   },
   "outputs": [
    {
     "data": {
      "text/plain": [
       "array([[0, 1],\n",
       "       [1, 2],\n",
       "       [2, 6],\n",
       "       [3, 0],\n",
       "       [4, 0],\n",
       "       [5, 0],\n",
       "       [6, 0],\n",
       "       [7, 0],\n",
       "       [8, 2],\n",
       "       [9, 3],\n",
       "       [10, 3],\n",
       "       [11, 0],\n",
       "       [12, 0],\n",
       "       [13, 0],\n",
       "       [14, 0],\n",
       "       [15, 0],\n",
       "       [16, 0],\n",
       "       [17, 0],\n",
       "       [18, 6],\n",
       "       [19, 0],\n",
       "       [20, 0],\n",
       "       [21, 0],\n",
       "       [22, 1],\n",
       "       [23, 0],\n",
       "       [24, 0],\n",
       "       [25, 0],\n",
       "       [26, 0],\n",
       "       [27, 0],\n",
       "       [28, 0],\n",
       "       [29, 0],\n",
       "       [30, 0],\n",
       "       [31, 0],\n",
       "       [32, 0],\n",
       "       [33, 0],\n",
       "       [34, 0],\n",
       "       [35, 0],\n",
       "       [36, 2],\n",
       "       [37, 0],\n",
       "       [38, 0],\n",
       "       [39, 0],\n",
       "       [40, 6],\n",
       "       [41, 1],\n",
       "       [42, 0],\n",
       "       [43, 0],\n",
       "       [44, 1],\n",
       "       [45, 0],\n",
       "       [46, 0],\n",
       "       [47, 0],\n",
       "       [48, 1],\n",
       "       [49, 0],\n",
       "       [50, 0],\n",
       "       [51, 0],\n",
       "       [52, 2],\n",
       "       [53, 0],\n",
       "       [54, 0],\n",
       "       [55, 0],\n",
       "       [56, 0],\n",
       "       [57, 0],\n",
       "       [58, 0],\n",
       "       [59, 0],\n",
       "       [60, 0],\n",
       "       [61, 0],\n",
       "       [62, 0],\n",
       "       [63, 2],\n",
       "       [64, 0],\n",
       "       [65, 0],\n",
       "       [66, 0],\n",
       "       [67, 0],\n",
       "       [68, 0],\n",
       "       [69, 0],\n",
       "       [70, 0],\n",
       "       [71, 0],\n",
       "       [72, 0],\n",
       "       [73, 0],\n",
       "       [74, 6],\n",
       "       [75, 2],\n",
       "       [76, 0],\n",
       "       [77, 0],\n",
       "       [78, 0],\n",
       "       [79, 0],\n",
       "       [80, 0],\n",
       "       [81, 0],\n",
       "       [82, 0],\n",
       "       [83, 0],\n",
       "       [84, 0],\n",
       "       [85, 0],\n",
       "       [86, 0],\n",
       "       [87, 2],\n",
       "       [88, 8],\n",
       "       [89, 0],\n",
       "       [90, 0],\n",
       "       [91, 1],\n",
       "       [92, 0],\n",
       "       [93, 0],\n",
       "       [94, 0],\n",
       "       [95, 0],\n",
       "       [96, 0],\n",
       "       [97, 0],\n",
       "       [98, 0],\n",
       "       [99, 0],\n",
       "       [100, 3],\n",
       "       [101, 0],\n",
       "       [102, 0],\n",
       "       [103, 0],\n",
       "       [104, 3],\n",
       "       [105, 1],\n",
       "       [106, 7],\n",
       "       [107, 0],\n",
       "       [108, 0],\n",
       "       [109, 1],\n",
       "       [110, 6],\n",
       "       [111, 3],\n",
       "       [112, 4],\n",
       "       [113, 0],\n",
       "       [114, 0],\n",
       "       [115, 4],\n",
       "       [116, 0],\n",
       "       [117, 0],\n",
       "       [118, 0],\n",
       "       [119, 0],\n",
       "       [120, 0],\n",
       "       [121, 0],\n",
       "       [122, 0],\n",
       "       [123, 2],\n",
       "       [124, 2],\n",
       "       [125, 0],\n",
       "       [126, 0],\n",
       "       [127, 0],\n",
       "       [128, 0],\n",
       "       [129, 1],\n",
       "       [130, 0],\n",
       "       [131, 0],\n",
       "       [132, 0],\n",
       "       [133, 0],\n",
       "       [134, 0],\n",
       "       [135, 3],\n",
       "       [136, 0],\n",
       "       [137, 2],\n",
       "       [138, 0],\n",
       "       [139, 3],\n",
       "       [140, 0],\n",
       "       [141, 0],\n",
       "       [142, 2],\n",
       "       [143, 0],\n",
       "       [144, 0],\n",
       "       [145, 0],\n",
       "       [146, 0],\n",
       "       [147, 0],\n",
       "       [148, 0],\n",
       "       [149, 0],\n",
       "       [150, 0],\n",
       "       [151, 0],\n",
       "       [152, 0],\n",
       "       [153, 0],\n",
       "       [154, 0],\n",
       "       [155, 0],\n",
       "       [156, 2],\n",
       "       [157, 0],\n",
       "       [158, 0],\n",
       "       [159, 0],\n",
       "       [160, 0],\n",
       "       [161, 0],\n",
       "       [162, 0],\n",
       "       [163, 1],\n",
       "       [164, 2],\n",
       "       [165, 0],\n",
       "       [166, 0],\n",
       "       [167, 0],\n",
       "       [168, 0],\n",
       "       [169, 4],\n",
       "       [170, 0],\n",
       "       [171, 0],\n",
       "       [172, 0],\n",
       "       [173, 0],\n",
       "       [174, 0],\n",
       "       [175, 1],\n",
       "       [176, 0],\n",
       "       [177, 0],\n",
       "       [178, 0],\n",
       "       [179, 0],\n",
       "       [180, 0],\n",
       "       [181, 0],\n",
       "       [182, 0],\n",
       "       [183, 0],\n",
       "       [184, 0],\n",
       "       [185, 0],\n",
       "       [186, 0],\n",
       "       [187, 0],\n",
       "       [188, 0],\n",
       "       [189, 0],\n",
       "       [190, 0],\n",
       "       [191, 0],\n",
       "       [192, 0],\n",
       "       [193, 0],\n",
       "       [194, 0],\n",
       "       [195, 0],\n",
       "       [196, 0],\n",
       "       [197, 0],\n",
       "       [198, 0],\n",
       "       [199, 0],\n",
       "       [200, 0],\n",
       "       [201, 0],\n",
       "       [202, 0],\n",
       "       [203, 0],\n",
       "       [204, 0],\n",
       "       [205, 0],\n",
       "       [206, 3],\n",
       "       [207, 0],\n",
       "       [208, 0],\n",
       "       [209, 0],\n",
       "       [210, 0],\n",
       "       [211, 2],\n",
       "       [212, 0],\n",
       "       [213, 0],\n",
       "       [214, 1],\n",
       "       [215, 0],\n",
       "       [216, 0],\n",
       "       [217, 0],\n",
       "       [218, 0],\n",
       "       [219, 0],\n",
       "       [220, 0],\n",
       "       [221, 0],\n",
       "       [222, 0],\n",
       "       [223, 0],\n",
       "       [224, 0],\n",
       "       [225, 0],\n",
       "       [226, 0],\n",
       "       [227, 0],\n",
       "       [228, 0],\n",
       "       [229, 0],\n",
       "       [230, 0],\n",
       "       [231, 0],\n",
       "       [232, 0],\n",
       "       [233, 0],\n",
       "       [234, 0],\n",
       "       [235, 0],\n",
       "       [236, 0],\n",
       "       [237, 0],\n",
       "       [238, 0],\n",
       "       [239, 0],\n",
       "       [240, 0],\n",
       "       [241, 0],\n",
       "       [242, 0],\n",
       "       [243, 0],\n",
       "       [244, 0],\n",
       "       [245, 0],\n",
       "       [246, 0],\n",
       "       [247, 0],\n",
       "       [248, 0],\n",
       "       [249, 0],\n",
       "       [250, 0],\n",
       "       [251, 0],\n",
       "       [252, 0],\n",
       "       [253, 0],\n",
       "       [254, 0],\n",
       "       [255, 0],\n",
       "       [256, 0],\n",
       "       [257, 0],\n",
       "       [258, 0],\n",
       "       [259, 0],\n",
       "       [260, 0],\n",
       "       [261, 0],\n",
       "       [262, 0],\n",
       "       [263, 0],\n",
       "       [264, 0],\n",
       "       [265, 0],\n",
       "       [266, 0],\n",
       "       [267, 0],\n",
       "       [268, 0],\n",
       "       [269, 0],\n",
       "       [270, 0],\n",
       "       [271, 0],\n",
       "       [272, 0],\n",
       "       [273, 0],\n",
       "       [274, 0],\n",
       "       [275, 0],\n",
       "       [276, 0],\n",
       "       [277, 0],\n",
       "       [278, 0],\n",
       "       [279, 0],\n",
       "       [280, 0],\n",
       "       [281, 0],\n",
       "       [282, 0],\n",
       "       [283, 0],\n",
       "       [284, 0],\n",
       "       [285, 0],\n",
       "       [286, 0],\n",
       "       [287, 0],\n",
       "       [288, 0],\n",
       "       [289, 0],\n",
       "       [290, 0],\n",
       "       [291, 0],\n",
       "       [292, 0],\n",
       "       [293, 0],\n",
       "       [294, 0],\n",
       "       [295, 0],\n",
       "       [296, 0],\n",
       "       [297, 0],\n",
       "       [298, 0],\n",
       "       [299, 0],\n",
       "       [300, 0],\n",
       "       [301, 0],\n",
       "       [302, 0],\n",
       "       [303, 0],\n",
       "       [304, 0],\n",
       "       [305, 0],\n",
       "       [306, 0],\n",
       "       [307, 0],\n",
       "       [308, 0],\n",
       "       [309, 0],\n",
       "       [310, 0],\n",
       "       [311, 0],\n",
       "       [312, 0],\n",
       "       [313, 0],\n",
       "       [314, 0],\n",
       "       [315, 0],\n",
       "       [316, 0],\n",
       "       [317, 0],\n",
       "       [318, 0],\n",
       "       [319, 0],\n",
       "       [320, 0],\n",
       "       [321, 0],\n",
       "       [322, 0],\n",
       "       [323, 0],\n",
       "       [324, 0],\n",
       "       [325, 0],\n",
       "       [326, 0],\n",
       "       [327, 0],\n",
       "       [328, 0],\n",
       "       [329, 0],\n",
       "       [330, 0],\n",
       "       [331, 0],\n",
       "       [332, 0],\n",
       "       [333, 0],\n",
       "       [334, 0],\n",
       "       [335, 0],\n",
       "       [336, 0],\n",
       "       [337, 0],\n",
       "       [338, 0],\n",
       "       [339, 0],\n",
       "       [340, 0],\n",
       "       [341, 0],\n",
       "       [342, 0],\n",
       "       [343, 0],\n",
       "       [344, 0],\n",
       "       [345, 0],\n",
       "       [346, 0],\n",
       "       [347, 0],\n",
       "       [348, 0],\n",
       "       [349, 0],\n",
       "       [350, 0],\n",
       "       [351, 0],\n",
       "       [352, 0],\n",
       "       [353, 0],\n",
       "       [354, 0],\n",
       "       [355, 0],\n",
       "       [356, 0],\n",
       "       [357, 0],\n",
       "       [358, 0],\n",
       "       [359, 0],\n",
       "       [360, 0],\n",
       "       [361, 0],\n",
       "       [362, 0],\n",
       "       [363, 0],\n",
       "       [364, 0],\n",
       "       [365, 0]], dtype=object)"
      ]
     },
     "execution_count": 9,
     "metadata": {},
     "output_type": "execute_result"
    }
   ],
   "source": [
    "values"
   ]
  },
  {
   "cell_type": "code",
   "execution_count": 10,
   "metadata": {
    "colab": {},
    "colab_type": "code",
    "id": "QoOrH37NL2D5"
   },
   "outputs": [],
   "source": [
    "# ensure all data is float\n",
    "values = values.astype('float32')"
   ]
  },
  {
   "cell_type": "code",
   "execution_count": 11,
   "metadata": {
    "colab": {},
    "colab_type": "code",
    "id": "-bideA9KMAEB"
   },
   "outputs": [],
   "source": [
    "# normalize features\n",
    "scaler = MinMaxScaler(feature_range=(0, 1))\n",
    "scaled = scaler.fit_transform(values)"
   ]
  },
  {
   "cell_type": "code",
   "execution_count": 12,
   "metadata": {
    "colab": {},
    "colab_type": "code",
    "id": "UoYzGGiuMDKV"
   },
   "outputs": [],
   "source": [
    "# frame as supervised learning\n",
    "reframed = series_to_supervised(scaled, 1, 1)"
   ]
  },
  {
   "cell_type": "code",
   "execution_count": 22,
   "metadata": {
    "colab": {
     "base_uri": "https://localhost:8080/",
     "height": 246
    },
    "colab_type": "code",
    "id": "8qozQ50XQ0vt",
    "outputId": "327145ff-0e4e-4712-a1e0-6bb05556872e"
   },
   "outputs": [
    {
     "data": {
      "text/html": [
       "<div>\n",
       "<style scoped>\n",
       "    .dataframe tbody tr th:only-of-type {\n",
       "        vertical-align: middle;\n",
       "    }\n",
       "\n",
       "    .dataframe tbody tr th {\n",
       "        vertical-align: top;\n",
       "    }\n",
       "\n",
       "    .dataframe thead th {\n",
       "        text-align: right;\n",
       "    }\n",
       "</style>\n",
       "<table border=\"1\" class=\"dataframe\">\n",
       "  <thead>\n",
       "    <tr style=\"text-align: right;\">\n",
       "      <th></th>\n",
       "      <th>var1(t-1)</th>\n",
       "      <th>var2(t-1)</th>\n",
       "      <th>var1(t)</th>\n",
       "      <th>var2(t)</th>\n",
       "    </tr>\n",
       "  </thead>\n",
       "  <tbody>\n",
       "    <tr>\n",
       "      <th>1</th>\n",
       "      <td>0.000000</td>\n",
       "      <td>0.125</td>\n",
       "      <td>0.002740</td>\n",
       "      <td>0.250</td>\n",
       "    </tr>\n",
       "    <tr>\n",
       "      <th>2</th>\n",
       "      <td>0.002740</td>\n",
       "      <td>0.250</td>\n",
       "      <td>0.005479</td>\n",
       "      <td>0.750</td>\n",
       "    </tr>\n",
       "    <tr>\n",
       "      <th>3</th>\n",
       "      <td>0.005479</td>\n",
       "      <td>0.750</td>\n",
       "      <td>0.008219</td>\n",
       "      <td>0.000</td>\n",
       "    </tr>\n",
       "    <tr>\n",
       "      <th>4</th>\n",
       "      <td>0.008219</td>\n",
       "      <td>0.000</td>\n",
       "      <td>0.010959</td>\n",
       "      <td>0.000</td>\n",
       "    </tr>\n",
       "    <tr>\n",
       "      <th>5</th>\n",
       "      <td>0.010959</td>\n",
       "      <td>0.000</td>\n",
       "      <td>0.013699</td>\n",
       "      <td>0.000</td>\n",
       "    </tr>\n",
       "    <tr>\n",
       "      <th>6</th>\n",
       "      <td>0.013699</td>\n",
       "      <td>0.000</td>\n",
       "      <td>0.016438</td>\n",
       "      <td>0.000</td>\n",
       "    </tr>\n",
       "    <tr>\n",
       "      <th>7</th>\n",
       "      <td>0.016438</td>\n",
       "      <td>0.000</td>\n",
       "      <td>0.019178</td>\n",
       "      <td>0.000</td>\n",
       "    </tr>\n",
       "    <tr>\n",
       "      <th>8</th>\n",
       "      <td>0.019178</td>\n",
       "      <td>0.000</td>\n",
       "      <td>0.021918</td>\n",
       "      <td>0.250</td>\n",
       "    </tr>\n",
       "    <tr>\n",
       "      <th>9</th>\n",
       "      <td>0.021918</td>\n",
       "      <td>0.250</td>\n",
       "      <td>0.024658</td>\n",
       "      <td>0.375</td>\n",
       "    </tr>\n",
       "    <tr>\n",
       "      <th>10</th>\n",
       "      <td>0.024658</td>\n",
       "      <td>0.375</td>\n",
       "      <td>0.027397</td>\n",
       "      <td>0.375</td>\n",
       "    </tr>\n",
       "  </tbody>\n",
       "</table>\n",
       "</div>"
      ],
      "text/plain": [
       "    var1(t-1)  var2(t-1)   var1(t)  var2(t)\n",
       "1    0.000000      0.125  0.002740    0.250\n",
       "2    0.002740      0.250  0.005479    0.750\n",
       "3    0.005479      0.750  0.008219    0.000\n",
       "4    0.008219      0.000  0.010959    0.000\n",
       "5    0.010959      0.000  0.013699    0.000\n",
       "6    0.013699      0.000  0.016438    0.000\n",
       "7    0.016438      0.000  0.019178    0.000\n",
       "8    0.019178      0.000  0.021918    0.250\n",
       "9    0.021918      0.250  0.024658    0.375\n",
       "10   0.024658      0.375  0.027397    0.375"
      ]
     },
     "execution_count": 22,
     "metadata": {},
     "output_type": "execute_result"
    }
   ],
   "source": [
    "reframed.head(10)"
   ]
  },
  {
   "cell_type": "code",
   "execution_count": 14,
   "metadata": {
    "colab": {
     "base_uri": "https://localhost:8080/",
     "height": 158
    },
    "colab_type": "code",
    "id": "WagjZMq5Ns-z",
    "outputId": "1585cfe5-7bba-4457-fdfc-0166fde77266"
   },
   "outputs": [],
   "source": [
    "# drop columns we don't want to predict\n",
    "#reframed.drop(reframed.columns[[9,10,11,12,13,14,15]], axis=1, inplace=True)\n",
    "#print(reframed.head())"
   ]
  },
  {
   "cell_type": "code",
   "execution_count": 49,
   "metadata": {},
   "outputs": [
    {
     "data": {
      "text/plain": [
       "array([[0.        , 0.125     , 0.00273973, 0.25      ],\n",
       "       [0.00273973, 0.25      , 0.00547945, 0.75      ],\n",
       "       [0.00547945, 0.75      , 0.00821918, 0.        ],\n",
       "       ...,\n",
       "       [0.9917809 , 0.        , 0.99452055, 0.        ],\n",
       "       [0.99452055, 0.        , 0.9972603 , 0.        ],\n",
       "       [0.9972603 , 0.        , 1.        , 0.        ]], dtype=float32)"
      ]
     },
     "execution_count": 49,
     "metadata": {},
     "output_type": "execute_result"
    }
   ],
   "source": [
    "values = reframed.values\n",
    "values"
   ]
  },
  {
   "cell_type": "markdown",
   "metadata": {
    "colab_type": "text",
    "id": "sZ8QbmhGSJGS"
   },
   "source": [
    "Define and Fit Model"
   ]
  },
  {
   "cell_type": "code",
   "execution_count": 64,
   "metadata": {
    "colab": {},
    "colab_type": "code",
    "id": "YyiJCYceSJtu"
   },
   "outputs": [],
   "source": [
    "import math\n",
    "# split into train and test sets\n",
    "values = reframed.values\n",
    "n_train_day = math.floor(365 *0.8)\n",
    "train = values[:n_train_day,:]\n",
    "test = values[n_train_day:, :]"
   ]
  },
  {
   "cell_type": "code",
   "execution_count": 65,
   "metadata": {
    "colab": {},
    "colab_type": "code",
    "id": "g9hUWzEjmc4m"
   },
   "outputs": [],
   "source": [
    "# split into input and outputs\n",
    "train_X, train_y = train[:, :-1], train[:, -1]\n",
    "test_X, test_y = test[:, :-1], test[:, -1]"
   ]
  },
  {
   "cell_type": "code",
   "execution_count": 66,
   "metadata": {
    "colab": {
     "base_uri": "https://localhost:8080/",
     "height": 34
    },
    "colab_type": "code",
    "id": "hYV1laaimoBu",
    "outputId": "d5c91ea8-68a9-423e-9416-b53f1ce21c3e"
   },
   "outputs": [
    {
     "name": "stdout",
     "output_type": "stream",
     "text": [
      "(292, 1, 3) (292,) (73, 1, 3) (73,)\n"
     ]
    }
   ],
   "source": [
    "# reshape input to be 3D [samples, timesteps, features]\n",
    "train_X = train_X.reshape((train_X.shape[0], 1, train_X.shape[1]))\n",
    "test_X = test_X.reshape((test_X.shape[0], 1, test_X.shape[1]))\n",
    "print(train_X.shape, train_y.shape, test_X.shape, test_y.shape)"
   ]
  },
  {
   "cell_type": "code",
   "execution_count": 67,
   "metadata": {
    "colab": {},
    "colab_type": "code",
    "id": "YeVF2JkmnCly"
   },
   "outputs": [],
   "source": [
    "from keras.models import Sequential\n",
    "from keras.layers import Dense\n",
    "from keras.layers import LSTM"
   ]
  },
  {
   "cell_type": "code",
   "execution_count": 74,
   "metadata": {
    "colab": {},
    "colab_type": "code",
    "id": "2IWqLwmHmt1U"
   },
   "outputs": [],
   "source": [
    "# design network\n",
    "model = Sequential()\n",
    "model.add(LSTM(50, input_shape=(train_X.shape[1], train_X.shape[2])))\n",
    "model.add(Dense(2))\n",
    "model.compile(loss='mae', optimizer='adam')"
   ]
  },
  {
   "cell_type": "code",
   "execution_count": 75,
   "metadata": {
    "colab": {
     "base_uri": "https://localhost:8080/",
     "height": 1000
    },
    "colab_type": "code",
    "id": "475zgG19mzCT",
    "outputId": "d0bacd68-db04-497f-ac4a-b0db54869764"
   },
   "outputs": [
    {
     "name": "stdout",
     "output_type": "stream",
     "text": [
      "Epoch 1/50\n",
      "5/5 - 0s - loss: 0.0702 - val_loss: 0.0369\n",
      "Epoch 2/50\n",
      "5/5 - 0s - loss: 0.0648 - val_loss: 0.0262\n",
      "Epoch 3/50\n",
      "5/5 - 0s - loss: 0.0605 - val_loss: 0.0123\n",
      "Epoch 4/50\n",
      "5/5 - 0s - loss: 0.0595 - val_loss: 0.0104\n",
      "Epoch 5/50\n",
      "5/5 - 0s - loss: 0.0614 - val_loss: 0.0071\n",
      "Epoch 6/50\n",
      "5/5 - 0s - loss: 0.0585 - val_loss: 0.0075\n",
      "Epoch 7/50\n",
      "5/5 - 0s - loss: 0.0581 - val_loss: 0.0084\n",
      "Epoch 8/50\n",
      "5/5 - 0s - loss: 0.0561 - val_loss: 0.0083\n",
      "Epoch 9/50\n",
      "5/5 - 0s - loss: 0.0549 - val_loss: 0.0039\n",
      "Epoch 10/50\n",
      "5/5 - 0s - loss: 0.0550 - val_loss: 0.0018\n",
      "Epoch 11/50\n",
      "5/5 - 0s - loss: 0.0545 - val_loss: 0.0033\n",
      "Epoch 12/50\n",
      "5/5 - 0s - loss: 0.0530 - val_loss: 0.0014\n",
      "Epoch 13/50\n",
      "5/5 - 0s - loss: 0.0524 - val_loss: 6.9129e-04\n",
      "Epoch 14/50\n",
      "5/5 - 0s - loss: 0.0531 - val_loss: 9.9381e-04\n",
      "Epoch 15/50\n",
      "5/5 - 0s - loss: 0.0523 - val_loss: 6.4246e-04\n",
      "Epoch 16/50\n",
      "5/5 - 0s - loss: 0.0525 - val_loss: 0.0023\n",
      "Epoch 17/50\n",
      "5/5 - 0s - loss: 0.0522 - val_loss: 9.1625e-04\n",
      "Epoch 18/50\n",
      "5/5 - 0s - loss: 0.0526 - val_loss: 7.3392e-04\n",
      "Epoch 19/50\n",
      "5/5 - 0s - loss: 0.0527 - val_loss: 8.8946e-04\n",
      "Epoch 20/50\n",
      "5/5 - 0s - loss: 0.0526 - val_loss: 0.0016\n",
      "Epoch 21/50\n",
      "5/5 - 0s - loss: 0.0519 - val_loss: 9.8896e-04\n",
      "Epoch 22/50\n",
      "5/5 - 0s - loss: 0.0520 - val_loss: 6.6366e-04\n",
      "Epoch 23/50\n",
      "5/5 - 0s - loss: 0.0527 - val_loss: 0.0013\n",
      "Epoch 24/50\n",
      "5/5 - 0s - loss: 0.0522 - val_loss: 0.0023\n",
      "Epoch 25/50\n",
      "5/5 - 0s - loss: 0.0525 - val_loss: 0.0016\n",
      "Epoch 26/50\n",
      "5/5 - 0s - loss: 0.0520 - val_loss: 1.5843e-04\n",
      "Epoch 27/50\n",
      "5/5 - 0s - loss: 0.0530 - val_loss: 0.0014\n",
      "Epoch 28/50\n",
      "5/5 - 0s - loss: 0.0520 - val_loss: 4.4846e-04\n",
      "Epoch 29/50\n",
      "5/5 - 0s - loss: 0.0526 - val_loss: 5.1103e-04\n",
      "Epoch 30/50\n",
      "5/5 - 0s - loss: 0.0520 - val_loss: 3.1679e-04\n",
      "Epoch 31/50\n",
      "5/5 - 0s - loss: 0.0529 - val_loss: 5.4382e-04\n",
      "Epoch 32/50\n",
      "5/5 - 0s - loss: 0.0522 - val_loss: 0.0018\n",
      "Epoch 33/50\n",
      "5/5 - 0s - loss: 0.0527 - val_loss: 9.7308e-04\n",
      "Epoch 34/50\n",
      "5/5 - 0s - loss: 0.0520 - val_loss: 2.7136e-04\n",
      "Epoch 35/50\n",
      "5/5 - 0s - loss: 0.0526 - val_loss: 0.0013\n",
      "Epoch 36/50\n",
      "5/5 - 0s - loss: 0.0522 - val_loss: 8.1861e-04\n",
      "Epoch 37/50\n",
      "5/5 - 0s - loss: 0.0530 - val_loss: 0.0012\n",
      "Epoch 38/50\n",
      "5/5 - 0s - loss: 0.0520 - val_loss: 0.0018\n",
      "Epoch 39/50\n",
      "5/5 - 0s - loss: 0.0521 - val_loss: 6.8664e-04\n",
      "Epoch 40/50\n",
      "5/5 - 0s - loss: 0.0518 - val_loss: 0.0011\n",
      "Epoch 41/50\n",
      "5/5 - 0s - loss: 0.0524 - val_loss: 8.3226e-04\n",
      "Epoch 42/50\n",
      "5/5 - 0s - loss: 0.0520 - val_loss: 6.9061e-04\n",
      "Epoch 43/50\n",
      "5/5 - 0s - loss: 0.0525 - val_loss: 0.0018\n",
      "Epoch 44/50\n",
      "5/5 - 0s - loss: 0.0519 - val_loss: 0.0018\n",
      "Epoch 45/50\n",
      "5/5 - 0s - loss: 0.0520 - val_loss: 1.7425e-04\n",
      "Epoch 46/50\n",
      "5/5 - 0s - loss: 0.0520 - val_loss: 0.0012\n",
      "Epoch 47/50\n",
      "5/5 - 0s - loss: 0.0526 - val_loss: 0.0010\n",
      "Epoch 48/50\n",
      "5/5 - 0s - loss: 0.0523 - val_loss: 8.1837e-04\n",
      "Epoch 49/50\n",
      "5/5 - 0s - loss: 0.0521 - val_loss: 0.0019\n",
      "Epoch 50/50\n",
      "5/5 - 0s - loss: 0.0520 - val_loss: 7.6423e-04\n"
     ]
    }
   ],
   "source": [
    "# fit network\n",
    "history = model.fit(train_X, train_y, epochs=50, batch_size=72, validation_data=(test_X, test_y), verbose=2, shuffle=False)"
   ]
  },
  {
   "cell_type": "code",
   "execution_count": 76,
   "metadata": {
    "colab": {
     "base_uri": "https://localhost:8080/",
     "height": 265
    },
    "colab_type": "code",
    "id": "Jmzc613YrrQx",
    "outputId": "796c8ab3-14bb-4080-f2f3-23dfa051e8cb"
   },
   "outputs": [
    {
     "data": {
      "image/png": "[encoded data removed]",
      "text/plain": [
       "<Figure size 432x288 with 1 Axes>"
      ]
     },
     "metadata": {
      "needs_background": "light"
     },
     "output_type": "display_data"
    }
   ],
   "source": [
    "# plot history\n",
    "pyplot.plot(history.history['loss'], label='train')\n",
    "pyplot.plot(history.history['val_loss'], label='test')\n",
    "pyplot.legend()\n",
    "pyplot.show()"
   ]
  },
  {
   "cell_type": "markdown",
   "metadata": {
    "colab_type": "text",
    "id": "xP-ECOJur6B4"
   },
   "source": [
    "Evaluate Model"
   ]
  },
  {
   "cell_type": "code",
   "execution_count": 77,
   "metadata": {
    "colab": {},
    "colab_type": "code",
    "id": "16emzgM3r2VX"
   },
   "outputs": [],
   "source": [
    "# make a prediction\n",
    "yhat = model.predict(test_X)\n",
    "test_X = test_X.reshape((test_X.shape[0], test_X.shape[2]))"
   ]
  },
  {
   "cell_type": "code",
   "execution_count": 78,
   "metadata": {
    "colab": {},
    "colab_type": "code",
    "id": "FkJXlfAfr-YI"
   },
   "outputs": [
    {
     "ename": "ValueError",
     "evalue": "operands could not be broadcast together with shapes (73,4) (2,) (73,4) ",
     "output_type": "error",
     "traceback": [
      "\u001b[0;31m---------------------------------------------------------------------------\u001b[0m",
      "\u001b[0;31mValueError\u001b[0m                                Traceback (most recent call last)",
      "\u001b[0;32m<ipython-input-78-7284b22c5e10>\u001b[0m in \u001b[0;36m<module>\u001b[0;34m\u001b[0m\n\u001b[1;32m      2\u001b[0m \u001b[0;31m# invert scaling for forecast\u001b[0m\u001b[0;34m\u001b[0m\u001b[0;34m\u001b[0m\u001b[0;34m\u001b[0m\u001b[0m\n\u001b[1;32m      3\u001b[0m \u001b[0minv_yhat\u001b[0m \u001b[0;34m=\u001b[0m \u001b[0mconcatenate\u001b[0m\u001b[0;34m(\u001b[0m\u001b[0;34m(\u001b[0m\u001b[0myhat\u001b[0m\u001b[0;34m,\u001b[0m \u001b[0mtest_X\u001b[0m\u001b[0;34m[\u001b[0m\u001b[0;34m:\u001b[0m\u001b[0;34m,\u001b[0m \u001b[0;36m1\u001b[0m\u001b[0;34m:\u001b[0m\u001b[0;34m]\u001b[0m\u001b[0;34m)\u001b[0m\u001b[0;34m,\u001b[0m \u001b[0maxis\u001b[0m\u001b[0;34m=\u001b[0m\u001b[0;36m1\u001b[0m\u001b[0;34m)\u001b[0m\u001b[0;34m\u001b[0m\u001b[0;34m\u001b[0m\u001b[0m\n\u001b[0;32m----> 4\u001b[0;31m \u001b[0minv_yhat\u001b[0m \u001b[0;34m=\u001b[0m \u001b[0mscaler\u001b[0m\u001b[0;34m.\u001b[0m\u001b[0minverse_transform\u001b[0m\u001b[0;34m(\u001b[0m\u001b[0minv_yhat\u001b[0m\u001b[0;34m)\u001b[0m\u001b[0;34m\u001b[0m\u001b[0;34m\u001b[0m\u001b[0m\n\u001b[0m\u001b[1;32m      5\u001b[0m \u001b[0minv_yhat\u001b[0m \u001b[0;34m=\u001b[0m \u001b[0minv_yhat\u001b[0m\u001b[0;34m[\u001b[0m\u001b[0;34m:\u001b[0m\u001b[0;34m,\u001b[0m\u001b[0;36m0\u001b[0m\u001b[0;34m]\u001b[0m\u001b[0;34m\u001b[0m\u001b[0;34m\u001b[0m\u001b[0m\n",
      "\u001b[0;32m~/anaconda3/envs/my_env/lib/python3.8/site-packages/sklearn/preprocessing/_data.py\u001b[0m in \u001b[0;36minverse_transform\u001b[0;34m(self, X)\u001b[0m\n\u001b[1;32m    434\u001b[0m                         force_all_finite=\"allow-nan\")\n\u001b[1;32m    435\u001b[0m \u001b[0;34m\u001b[0m\u001b[0m\n\u001b[0;32m--> 436\u001b[0;31m         \u001b[0mX\u001b[0m \u001b[0;34m-=\u001b[0m \u001b[0mself\u001b[0m\u001b[0;34m.\u001b[0m\u001b[0mmin_\u001b[0m\u001b[0;34m\u001b[0m\u001b[0;34m\u001b[0m\u001b[0m\n\u001b[0m\u001b[1;32m    437\u001b[0m         \u001b[0mX\u001b[0m \u001b[0;34m/=\u001b[0m \u001b[0mself\u001b[0m\u001b[0;34m.\u001b[0m\u001b[0mscale_\u001b[0m\u001b[0;34m\u001b[0m\u001b[0;34m\u001b[0m\u001b[0m\n\u001b[1;32m    438\u001b[0m         \u001b[0;32mreturn\u001b[0m \u001b[0mX\u001b[0m\u001b[0;34m\u001b[0m\u001b[0;34m\u001b[0m\u001b[0m\n",
      "\u001b[0;31mValueError\u001b[0m: operands could not be broadcast together with shapes (73,4) (2,) (73,4) "
     ]
    }
   ],
   "source": [
    "from numpy import concatenate\n",
    "# invert scaling for forecast\n",
    "inv_yhat = concatenate((yhat, test_X[:, 1:]), axis=1)\n",
    "inv_yhat = scaler.inverse_transform(inv_yhat)\n",
    "inv_yhat = inv_yhat[:,0]"
   ]
  },
  {
   "cell_type": "code",
   "execution_count": 79,
   "metadata": {
    "colab": {},
    "colab_type": "code",
    "id": "txuSFMS9sBVV"
   },
   "outputs": [
    {
     "ename": "ValueError",
     "evalue": "operands could not be broadcast together with shapes (73,3) (2,) (73,3) ",
     "output_type": "error",
     "traceback": [
      "\u001b[0;31m---------------------------------------------------------------------------\u001b[0m",
      "\u001b[0;31mValueError\u001b[0m                                Traceback (most recent call last)",
      "\u001b[0;32m<ipython-input-79-f6dfb16f69df>\u001b[0m in \u001b[0;36m<module>\u001b[0;34m\u001b[0m\n\u001b[1;32m      2\u001b[0m \u001b[0mtest_y\u001b[0m \u001b[0;34m=\u001b[0m \u001b[0mtest_y\u001b[0m\u001b[0;34m.\u001b[0m\u001b[0mreshape\u001b[0m\u001b[0;34m(\u001b[0m\u001b[0;34m(\u001b[0m\u001b[0mlen\u001b[0m\u001b[0;34m(\u001b[0m\u001b[0mtest_y\u001b[0m\u001b[0;34m)\u001b[0m\u001b[0;34m,\u001b[0m \u001b[0;36m1\u001b[0m\u001b[0;34m)\u001b[0m\u001b[0;34m)\u001b[0m\u001b[0;34m\u001b[0m\u001b[0;34m\u001b[0m\u001b[0m\n\u001b[1;32m      3\u001b[0m \u001b[0minv_y\u001b[0m \u001b[0;34m=\u001b[0m \u001b[0mconcatenate\u001b[0m\u001b[0;34m(\u001b[0m\u001b[0;34m(\u001b[0m\u001b[0mtest_y\u001b[0m\u001b[0;34m,\u001b[0m \u001b[0mtest_X\u001b[0m\u001b[0;34m[\u001b[0m\u001b[0;34m:\u001b[0m\u001b[0;34m,\u001b[0m \u001b[0;36m1\u001b[0m\u001b[0;34m:\u001b[0m\u001b[0;34m]\u001b[0m\u001b[0;34m)\u001b[0m\u001b[0;34m,\u001b[0m \u001b[0maxis\u001b[0m\u001b[0;34m=\u001b[0m\u001b[0;36m1\u001b[0m\u001b[0;34m)\u001b[0m\u001b[0;34m\u001b[0m\u001b[0;34m\u001b[0m\u001b[0m\n\u001b[0;32m----> 4\u001b[0;31m \u001b[0minv_y\u001b[0m \u001b[0;34m=\u001b[0m \u001b[0mscaler\u001b[0m\u001b[0;34m.\u001b[0m\u001b[0minverse_transform\u001b[0m\u001b[0;34m(\u001b[0m\u001b[0minv_y\u001b[0m\u001b[0;34m)\u001b[0m\u001b[0;34m\u001b[0m\u001b[0;34m\u001b[0m\u001b[0m\n\u001b[0m\u001b[1;32m      5\u001b[0m \u001b[0minv_y\u001b[0m \u001b[0;34m=\u001b[0m \u001b[0minv_y\u001b[0m\u001b[0;34m[\u001b[0m\u001b[0;34m:\u001b[0m\u001b[0;34m,\u001b[0m\u001b[0;36m0\u001b[0m\u001b[0;34m]\u001b[0m\u001b[0;34m\u001b[0m\u001b[0;34m\u001b[0m\u001b[0m\n",
      "\u001b[0;32m~/anaconda3/envs/my_env/lib/python3.8/site-packages/sklearn/preprocessing/_data.py\u001b[0m in \u001b[0;36minverse_transform\u001b[0;34m(self, X)\u001b[0m\n\u001b[1;32m    434\u001b[0m                         force_all_finite=\"allow-nan\")\n\u001b[1;32m    435\u001b[0m \u001b[0;34m\u001b[0m\u001b[0m\n\u001b[0;32m--> 436\u001b[0;31m         \u001b[0mX\u001b[0m \u001b[0;34m-=\u001b[0m \u001b[0mself\u001b[0m\u001b[0;34m.\u001b[0m\u001b[0mmin_\u001b[0m\u001b[0;34m\u001b[0m\u001b[0;34m\u001b[0m\u001b[0m\n\u001b[0m\u001b[1;32m    437\u001b[0m         \u001b[0mX\u001b[0m \u001b[0;34m/=\u001b[0m \u001b[0mself\u001b[0m\u001b[0;34m.\u001b[0m\u001b[0mscale_\u001b[0m\u001b[0;34m\u001b[0m\u001b[0;34m\u001b[0m\u001b[0m\n\u001b[1;32m    438\u001b[0m         \u001b[0;32mreturn\u001b[0m \u001b[0mX\u001b[0m\u001b[0;34m\u001b[0m\u001b[0;34m\u001b[0m\u001b[0m\n",
      "\u001b[0;31mValueError\u001b[0m: operands could not be broadcast together with shapes (73,3) (2,) (73,3) "
     ]
    }
   ],
   "source": [
    "# invert scaling for actual\n",
    "test_y = test_y.reshape((len(test_y), 1))\n",
    "inv_y = concatenate((test_y, test_X[:, 1:]), axis=1)\n",
    "inv_y = scaler.inverse_transform(inv_y)\n",
    "inv_y = inv_y[:,0]"
   ]
  },
  {
   "cell_type": "code",
   "execution_count": null,
   "metadata": {
    "colab": {
     "base_uri": "https://localhost:8080/",
     "height": 34
    },
    "colab_type": "code",
    "id": "SIpa8VwrsWqf",
    "outputId": "59519f44-9ee3-4bfe-99f5-1a2014f6ad4e"
   },
   "outputs": [],
   "source": [
    "from math import sqrt\n",
    "from sklearn.metrics import mean_squared_error\n",
    "# calculate RMSE\n",
    "rmse = sqrt(mean_squared_error(inv_y, inv_yhat))\n",
    "print('Test RMSE: %.3f' % rmse)"
   ]
  },
  {
   "cell_type": "code",
   "execution_count": null,
   "metadata": {
    "colab": {},
    "colab_type": "code",
    "id": "F-PMOzoKsgfS"
   },
   "outputs": [],
   "source": [
    "!pip install keras"
   ]
  },
  {
   "cell_type": "code",
   "execution_count": null,
   "metadata": {},
   "outputs": [],
   "source": [
    "!pip install tensorflow"
   ]
  },
  {
   "cell_type": "code",
   "execution_count": null,
   "metadata": {},
   "outputs": [],
   "source": []
  }
 ],
 "metadata": {
  "colab": {
   "name": "AirPollutionForecasting.ipynb",
   "provenance": []
  },
  "kernelspec": {
   "display_name": "Python 3",
   "language": "python",
   "name": "python3"
  },
  "language_info": {
   "codemirror_mode": {
    "name": "ipython",
    "version": 3
   },
   "file_extension": ".py",
   "mimetype": "text/x-python",
   "name": "python",
   "nbconvert_exporter": "python",
   "pygments_lexer": "ipython3",
   "version": "3.8.2"
  }
 },
 "nbformat": 4,
 "nbformat_minor": 1
}
