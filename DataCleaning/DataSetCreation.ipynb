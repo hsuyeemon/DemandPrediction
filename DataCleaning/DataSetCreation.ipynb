{
 "cells": [
  {
   "cell_type": "code",
   "execution_count": 1,
   "metadata": {},
   "outputs": [],
   "source": [
    "import os\n",
    "import pandas as pd\n",
    "import glob"
   ]
  },
  {
   "cell_type": "code",
   "execution_count": 2,
   "metadata": {},
   "outputs": [],
   "source": [
    "filepath_st = \"/home/hsuyeemon/work/Data/\""
   ]
  },
  {
   "cell_type": "code",
   "execution_count": 3,
   "metadata": {},
   "outputs": [
    {
     "name": "stderr",
     "output_type": "stream",
     "text": [
      "/home/hsuyeemon/anaconda3/envs/my_env/lib/python3.8/site-packages/IPython/core/interactiveshell.py:3254: DtypeWarning: Columns (8) have mixed types.Specify dtype option on import or set low_memory=False.\n",
      "  if (await self.run_code(code, result,  async_=asy)):\n"
     ]
    }
   ],
   "source": [
    "extension = 'csv'\n",
    "column_names = [\"id\", \"date\", \"saturation\", \"storeId\",\"customerId\",\"customerType\",\"dob\",\"customerInfo\",\"productId\",\"color\",\"quantity\"]\n",
    "#Merge each csv into monthly data from 2010 to 2018\n",
    "for i in range(2010,2018):\n",
    "    for j in range(1,13):\n",
    "        os.chdir(filepath_st+str(i)+\"-\"+str(j)+\"/\")\n",
    "        all_filenames = [k for k in glob.glob('*.{}'.format(extension))]\n",
    "        #combine all files in the list\n",
    "        combined_csv = pd.concat([pd.read_csv(f,index_col=False,names=column_names) for f in all_filenames ])\n",
    "        combined_csv.head()\n",
    "        #export to csv\n",
    "        combined_csv.to_csv(filepath_st+\"/monthly_data/\"+str(i)+\"-\"+str(j)+\".csv\", index=False, encoding='utf-8-sig')"
   ]
  },
  {
   "cell_type": "code",
   "execution_count": 4,
   "metadata": {},
   "outputs": [],
   "source": [
    "#for 2019\n",
    "\n",
    "i = 2019\n",
    "for j in range(1,9):\n",
    "    os.chdir(filepath_st+str(i)+\"-\"+str(j)+\"/\")\n",
    "    all_filenames = [k for k in glob.glob('*.{}'.format(extension))]\n",
    "    #combine all files in the list\n",
    "    combined_csv = pd.concat([pd.read_csv(f,index_col=False,names=column_names) for f in all_filenames ])\n",
    "    combined_csv.head()\n",
    "    #export to csv\n",
    "    combined_csv.to_csv(filepath_st+\"/monthly_data/2018\"+str(i)+\"-\"+str(j)+\".csv\", index=False, encoding='utf-8-sig')"
   ]
  },
  {
   "cell_type": "code",
   "execution_count": 4,
   "metadata": {},
   "outputs": [],
   "source": [
    "extension = 'csv'\n",
    "column_names = [\"id\", \"date\", \"saturation\", \"storeId\",\"customerId\",\"customerType\",\"dob\",\"customerInfo\",\"productId\",\"color\",\"quantity\"]\n",
    "\n",
    "i = 2018\n",
    "for j in range(1,13):\n",
    "    os.chdir(filepath_st+str(i)+\"-\"+str(j)+\"/\")\n",
    "    all_filenames = [k for k in glob.glob('*.{}'.format(extension))]\n",
    "    #combine all files in the list\n",
    "    combined_csv = pd.concat([pd.read_csv(f,index_col=False,names=column_names) for f in all_filenames ])\n",
    "    combined_csv.head()\n",
    "    #export to csv\n",
    "    combined_csv.to_csv(filepath_st+\"/monthly_data/2018/\"+str(i)+\"-\"+str(j)+\".csv\", index=False, encoding='utf-8-sig')"
   ]
  },
  {
   "cell_type": "code",
   "execution_count": 8,
   "metadata": {},
   "outputs": [
    {
     "name": "stderr",
     "output_type": "stream",
     "text": [
      "/home/hsuyeemon/anaconda3/envs/my_env/lib/python3.8/site-packages/IPython/core/interactiveshell.py:3062: DtypeWarning: Columns (8) have mixed types.Specify dtype option on import or set low_memory=False.\n",
      "  has_raised = await self.run_ast_nodes(code_ast.body, cell_name,\n"
     ]
    }
   ],
   "source": [
    "#yearly data\n",
    "for i in range(2010,2020):\n",
    "    os.chdir(filepath_st+\"/monthly_data/\"+str(i)+\"/\")\n",
    "    interesting_files = glob.glob(\"*.csv\")\n",
    "    df_list = []\n",
    "    for filename in sorted(interesting_files):\n",
    "        df_list.append(pd.read_csv(filename))\n",
    "    full_df = pd.concat(df_list)\n",
    "\n",
    "    full_df.to_csv(filepath_st+\"yearly_data/\"+str(i)+\".csv\", index=False, encoding='utf-8-sig');"
   ]
  },
  {
   "cell_type": "code",
   "execution_count": 3,
   "metadata": {},
   "outputs": [
    {
     "name": "stderr",
     "output_type": "stream",
     "text": [
      "/home/hsuyeemon/anaconda3/envs/my_env/lib/python3.8/site-packages/IPython/core/interactiveshell.py:3062: DtypeWarning: Columns (8) have mixed types.Specify dtype option on import or set low_memory=False.\n",
      "  has_raised = await self.run_ast_nodes(code_ast.body, cell_name,\n"
     ]
    }
   ],
   "source": [
    "i=2016\n",
    "os.chdir(filepath_st+\"/monthly_data/\"+str(i)+\"/\")\n",
    "interesting_files = glob.glob(\"*.csv\")\n",
    "df_list = []\n",
    "for filename in sorted(interesting_files):\n",
    "    df_list.append(pd.read_csv(filename))\n",
    "full_df = pd.concat(df_list)\n",
    "\n",
    "full_df.to_csv(filepath_st+\"yearly_data/\"+str(i)+\".csv\", index=False, encoding='utf-8-sig');"
   ]
  },
  {
   "cell_type": "code",
   "execution_count": null,
   "metadata": {},
   "outputs": [],
   "source": []
  }
 ],
 "metadata": {
  "kernelspec": {
   "display_name": "Python 3",
   "language": "python",
   "name": "python3"
  },
  "language_info": {
   "codemirror_mode": {
    "name": "ipython",
    "version": 3
   },
   "file_extension": ".py",
   "mimetype": "text/x-python",
   "name": "python",
   "nbconvert_exporter": "python",
   "pygments_lexer": "ipython3",
   "version": "3.8.2"
  }
 },
 "nbformat": 4,
 "nbformat_minor": 4
}
